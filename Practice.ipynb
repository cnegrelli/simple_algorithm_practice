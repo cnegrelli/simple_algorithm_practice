{
 "cells": [
  {
   "cell_type": "markdown",
   "metadata": {},
   "source": [
    "## Coding practice"
   ]
  },
  {
   "cell_type": "markdown",
   "metadata": {},
   "source": [
    "Determine if a given word is a palindrome (ex. kayak)"
   ]
  },
  {
   "cell_type": "code",
   "execution_count": 75,
   "metadata": {},
   "outputs": [],
   "source": [
    "def is_palindrome(word):\n",
    "    word=word.lower()\n",
    "    for i in range(len(word)//2):\n",
    "        if word[i]!=word[-(i+1)]:\n",
    "            return False\n",
    "    return True"
   ]
  },
  {
   "cell_type": "markdown",
   "metadata": {},
   "source": [
    "Sum elements of a list"
   ]
  },
  {
   "cell_type": "code",
   "execution_count": 40,
   "metadata": {},
   "outputs": [],
   "source": [
    "a=[0,2,3]"
   ]
  },
  {
   "cell_type": "code",
   "execution_count": 42,
   "metadata": {},
   "outputs": [
    {
     "data": {
      "text/plain": [
       "5"
      ]
     },
     "execution_count": 42,
     "metadata": {},
     "output_type": "execute_result"
    }
   ],
   "source": [
    "sum(a)"
   ]
  },
  {
   "cell_type": "markdown",
   "metadata": {},
   "source": [
    "Second largest number in a list"
   ]
  },
  {
   "cell_type": "code",
   "execution_count": 64,
   "metadata": {},
   "outputs": [],
   "source": [
    "def second_largest(a):\n",
    "    if len(a)<=1:\n",
    "        return None\n",
    "    second= min(a)\n",
    "    for i in range(len(a)):\n",
    "        if a[i]>second and a[i]<max(a):\n",
    "            second=a[i]\n",
    "    return second        "
   ]
  },
  {
   "cell_type": "code",
   "execution_count": 65,
   "metadata": {},
   "outputs": [
    {
     "data": {
      "text/plain": [
       "2"
      ]
     },
     "execution_count": 65,
     "metadata": {},
     "output_type": "execute_result"
    }
   ],
   "source": [
    "second_largest([1,2,3])"
   ]
  },
  {
   "cell_type": "markdown",
   "metadata": {},
   "source": [
    "Check if two strings are reverse of each other"
   ]
  },
  {
   "cell_type": "code",
   "execution_count": 88,
   "metadata": {},
   "outputs": [],
   "source": [
    "def reverse(word1,word2):\n",
    "    for i in range(len(word1)):\n",
    "        if word1[i] != word2[-(i+1)]:\n",
    "            return False\n",
    "    return True"
   ]
  },
  {
   "cell_type": "code",
   "execution_count": 92,
   "metadata": {},
   "outputs": [
    {
     "data": {
      "text/plain": [
       "True"
      ]
     },
     "execution_count": 92,
     "metadata": {},
     "output_type": "execute_result"
    }
   ],
   "source": [
    "reverse('abcd','dcba')"
   ]
  },
  {
   "cell_type": "markdown",
   "metadata": {},
   "source": [
    "Compare two string numbers without using int()"
   ]
  },
  {
   "cell_type": "code",
   "execution_count": 95,
   "metadata": {},
   "outputs": [],
   "source": [
    "def larger(num1,num2):\n",
    "    if len(num1)>len(num2):\n",
    "        return num1\n",
    "    elif len(num2)>len(num1):\n",
    "        return num2\n",
    "    else:\n",
    "        if num1[0]>num2[0]:\n",
    "            return num1\n",
    "        else:\n",
    "            return num2"
   ]
  },
  {
   "cell_type": "code",
   "execution_count": 99,
   "metadata": {},
   "outputs": [
    {
     "data": {
      "text/plain": [
       "'60'"
      ]
     },
     "execution_count": 99,
     "metadata": {},
     "output_type": "execute_result"
    }
   ],
   "source": [
    "larger('55','60')"
   ]
  },
  {
   "cell_type": "markdown",
   "metadata": {},
   "source": [
    "Sum diagonal elements of a 2D array"
   ]
  },
  {
   "cell_type": "code",
   "execution_count": 6,
   "metadata": {},
   "outputs": [],
   "source": [
    "def diagonal_sum(b):\n",
    "    d_sum=0\n",
    "    for i in range(len(b)):\n",
    "        d_sum  += b[i][i]\n",
    "    return d_sum"
   ]
  },
  {
   "cell_type": "code",
   "execution_count": 7,
   "metadata": {},
   "outputs": [
    {
     "data": {
      "text/plain": [
       "15"
      ]
     },
     "execution_count": 7,
     "metadata": {},
     "output_type": "execute_result"
    }
   ],
   "source": [
    "diagonal_sum([[1,2,3],[4,5,6],[7,8,9]])"
   ]
  },
  {
   "cell_type": "markdown",
   "metadata": {},
   "source": [
    "# Problem: Can rooks attack one another?\n",
    "\n",
    "You are given a configuration of a chessboard with rooks in a 2 dimensional array.\n",
    "\n",
    "Example Input:  \n",
    "[[1, 0, 0, 0],  \n",
    " [0, 1, 0, 0],  \n",
    " [0, 0, 0, 1],  \n",
    " [0, 0, 0, 0]]\n",
    "\n",
    "1 represents that a rook is in the corresponding space on the board, and 0 represents that there's nothing there.\n",
    "\n",
    "***Remember, rooks are able to move horizontally and vertically over any number of spaces.***\n",
    "\n",
    "Write a function, rooks_are_safe(input) which returns True if none of the rooks can attack each other."
   ]
  },
  {
   "cell_type": "code",
   "execution_count": 10,
   "metadata": {},
   "outputs": [],
   "source": [
    "def rooks_are_safe(board):\n",
    "    ii=[]\n",
    "    jj=[]\n",
    "    for i in range(len(board)):\n",
    "        for j in range(len(board[i])):\n",
    "            if board[i][j]==1:\n",
    "                if i in ii or j in jj:\n",
    "                    return False\n",
    "                else:\n",
    "                    ii.append(i)\n",
    "                    jj.append(j)\n",
    "    return True\n",
    "            "
   ]
  },
  {
   "cell_type": "code",
   "execution_count": 14,
   "metadata": {},
   "outputs": [
    {
     "data": {
      "text/plain": [
       "False"
      ]
     },
     "execution_count": 14,
     "metadata": {},
     "output_type": "execute_result"
    }
   ],
   "source": [
    "rooks_are_safe(\n",
    "[[1, 0, 0, 0],\n",
    " [0, 1, 0, 0],\n",
    " [0, 0, 0, 1],\n",
    " [0, 0, 0, 0]]),\n",
    "\n",
    "rooks_are_safe([[1]]),\n",
    "\n",
    "rooks_are_safe(\n",
    "[[1, 0],\n",
    " [1, 0]]),\n",
    "\n",
    "rooks_are_safe(\n",
    "[[0, 0, 0],\n",
    " [1, 0, 1],\n",
    " [0, 0, 0]])"
   ]
  },
  {
   "cell_type": "markdown",
   "metadata": {},
   "source": [
    "Other option: sum by row and by column and see if any sum is bigger than 1"
   ]
  },
  {
   "cell_type": "markdown",
   "metadata": {},
   "source": [
    "# Problem: Counting the number of negative numbers.\n",
    "\n",
    "You are given a 2-dimensional array with integers.\n",
    "\n",
    "Example Input:  \n",
    "[[-4, -3, -1, 1],  \n",
    "&nbsp;[-2, -2,  1, 2],  \n",
    "&nbsp;[-1,&nbsp; 1,&nbsp; 2, 3],  \n",
    "&nbsp;[ 1,&nbsp; 2,&nbsp; 4, 5]]\n",
    "\n",
    "Write a function, count_negatives(input), which finds and returns the number of negative integers in th array."
   ]
  },
  {
   "cell_type": "code",
   "execution_count": 15,
   "metadata": {},
   "outputs": [],
   "source": [
    "# O(n^2)\n",
    "def count_negatives(matrix):\n",
    "    count=0\n",
    "    n = len(matrix)\n",
    "    for i in range(n):\n",
    "        for j in range(n):\n",
    "            if matrix[i][j] < 0:\n",
    "                count += 1\n",
    "                \n",
    "    return count"
   ]
  },
  {
   "cell_type": "code",
   "execution_count": 21,
   "metadata": {},
   "outputs": [
    {
     "data": {
      "text/plain": [
       "0"
      ]
     },
     "execution_count": 21,
     "metadata": {},
     "output_type": "execute_result"
    }
   ],
   "source": [
    "count_negatives(\n",
    "[[-4, -3, -1, 1],\n",
    " [-2, -2,  1, 2],\n",
    " [-1,  1,  2, 3],\n",
    " [ 1,  2,  4, 5]]),\n",
    "\n",
    "count_negatives(\n",
    "[[-1, 0],\n",
    " [0,  0]]),\n",
    "\n",
    "count_negatives(\n",
    "[[-2, 0],\n",
    " [-1, 0]]),\n",
    "\n",
    "count_negatives([[0]])"
   ]
  },
  {
   "cell_type": "code",
   "execution_count": 25,
   "metadata": {},
   "outputs": [],
   "source": [
    "# O(n)\n",
    "def count_negatives(matrix):\n",
    "    count=0\n",
    "    n=len(matrix)\n",
    "    row_i=0\n",
    "    col_i=n-1\n",
    "    while col_i>=0 and row_i < n:\n",
    "        if matrix[row_i][col_i] <0:\n",
    "            count += (col_i + 1)\n",
    "            row_i += 1\n",
    "        else:\n",
    "            col_i -= 1\n",
    "    return count"
   ]
  },
  {
   "cell_type": "markdown",
   "metadata": {},
   "source": [
    "# Problem: Find a pair of numbers that add up to 10.\n",
    "\n",
    "You are given a list / array with integers.\n",
    "\n",
    "Example Input:  \n",
    "[3, 4, 1, 2, 9]\n",
    "\n",
    "Write a function, pair10(input), which finds and prints out a pair (any of them) of numbers that add up to 10."
   ]
  },
  {
   "cell_type": "code",
   "execution_count": 28,
   "metadata": {},
   "outputs": [],
   "source": [
    "def pair10(list_a):\n",
    "    dict={}\n",
    "    for i in list_a:\n",
    "        if i in dict:\n",
    "            return (i,10-i)\n",
    "        else:\n",
    "            dict[10-i]=i\n",
    "    return 'no pairs'"
   ]
  },
  {
   "cell_type": "code",
   "execution_count": 29,
   "metadata": {},
   "outputs": [
    {
     "data": {
      "text/plain": [
       "(9, 1)"
      ]
     },
     "execution_count": 29,
     "metadata": {},
     "output_type": "execute_result"
    }
   ],
   "source": [
    "pair10([3, 4, 1, 2, 9])"
   ]
  },
  {
   "cell_type": "code",
   "execution_count": 30,
   "metadata": {},
   "outputs": [
    {
     "data": {
      "text/plain": [
       "(30, -20)"
      ]
     },
     "execution_count": 30,
     "metadata": {},
     "output_type": "execute_result"
    }
   ],
   "source": [
    "pair10([-11, -20, 2, 4, 30])"
   ]
  },
  {
   "cell_type": "code",
   "execution_count": 31,
   "metadata": {},
   "outputs": [
    {
     "data": {
      "text/plain": [
       "(9, 1)"
      ]
     },
     "execution_count": 31,
     "metadata": {},
     "output_type": "execute_result"
    }
   ],
   "source": [
    "pair10([1, 2, 9, 8])"
   ]
  },
  {
   "cell_type": "code",
   "execution_count": null,
   "metadata": {},
   "outputs": [],
   "source": []
  }
 ],
 "metadata": {
  "kernelspec": {
   "display_name": "Python 3",
   "language": "python",
   "name": "python3"
  },
  "language_info": {
   "codemirror_mode": {
    "name": "ipython",
    "version": 3
   },
   "file_extension": ".py",
   "mimetype": "text/x-python",
   "name": "python",
   "nbconvert_exporter": "python",
   "pygments_lexer": "ipython3",
   "version": "3.7.3"
  }
 },
 "nbformat": 4,
 "nbformat_minor": 2
}
